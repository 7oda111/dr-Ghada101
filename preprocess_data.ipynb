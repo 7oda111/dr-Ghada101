{
 "cells": [
  {
   "cell_type": "code",
   "execution_count": 5,
   "metadata": {},
   "outputs": [
    {
     "name": "stdout",
     "output_type": "stream",
     "text": [
      "Collecting theano\n",
      "  Downloading Theano-1.0.5.tar.gz (2.8 MB)\n",
      "Requirement already satisfied: numpy>=1.9.1 in s:\\new folder (2)\\lib\\site-packages (from theano) (1.19.2)\n",
      "Requirement already satisfied: scipy>=0.14 in s:\\new folder (2)\\lib\\site-packages (from theano) (1.5.2)\n",
      "Requirement already satisfied: six>=1.9.0 in c:\\users\\mahmoudnabil\\appdata\\roaming\\python\\python38\\site-packages (from theano) (1.15.0)\n",
      "Building wheels for collected packages: theano\n",
      "  Building wheel for theano (setup.py): started\n",
      "  Building wheel for theano (setup.py): finished with status 'done'\n",
      "  Created wheel for theano: filename=Theano-1.0.5-py3-none-any.whl size=2668111 sha256=6e7b002de5d55949e41d48c8eee22165d09a9786448d0a3c34221468a67bd634\n",
      "  Stored in directory: c:\\users\\mahmoudnabil\\appdata\\local\\pip\\cache\\wheels\\84\\cb\\19\\235b5b10d89b4621f685112f8762681570a9fa14dc1ce904d9\n",
      "Successfully built theano\n",
      "Installing collected packages: theano\n",
      "Successfully installed theano-1.0.5\n"
     ]
    },
    {
     "name": "stderr",
     "output_type": "stream",
     "text": [
      "WARNING: You are using pip version 21.0.1; however, version 21.3.1 is available.\n",
      "You should consider upgrading via the 'S:\\New folder (2)\\python.exe -m pip install --upgrade pip' command.\n"
     ]
    }
   ],
   "source": [
    "!pip install theano"
   ]
  },
  {
   "cell_type": "code",
   "execution_count": 10,
   "metadata": {},
   "outputs": [
    {
     "name": "stdout",
     "output_type": "stream",
     "text": [
      "Collecting libpython\n",
      "  Downloading libpython-0.2.tar.gz (15 kB)\n",
      "Requirement already satisfied: requests in c:\\users\\mahmoudnabil\\appdata\\roaming\\python\\python38\\site-packages (from libpython) (2.25.1)\n",
      "Requirement already satisfied: certifi>=2017.4.17 in c:\\users\\mahmoudnabil\\appdata\\roaming\\python\\python38\\site-packages (from requests->libpython) (2020.12.5)\n",
      "Requirement already satisfied: idna<3,>=2.5 in c:\\users\\mahmoudnabil\\appdata\\roaming\\python\\python38\\site-packages (from requests->libpython) (2.10)\n",
      "Requirement already satisfied: chardet<5,>=3.0.2 in c:\\users\\mahmoudnabil\\appdata\\roaming\\python\\python38\\site-packages (from requests->libpython) (4.0.0)\n",
      "Requirement already satisfied: urllib3<1.27,>=1.21.1 in c:\\users\\mahmoudnabil\\appdata\\roaming\\python\\python38\\site-packages (from requests->libpython) (1.26.4)\n",
      "Building wheels for collected packages: libpython\n",
      "  Building wheel for libpython (setup.py): started\n",
      "  Building wheel for libpython (setup.py): finished with status 'done'\n",
      "  Created wheel for libpython: filename=libpython-0.2-py3-none-any.whl size=14389 sha256=c27ebe4def45285b0d76ec511739f5cc9f76b1658a38ec26e4b7eb0780a41506\n",
      "  Stored in directory: c:\\users\\mahmoudnabil\\appdata\\local\\pip\\cache\\wheels\\f8\\0e\\ae\\9a8610c41be91787c7899e435d6bcb161fa8df32ea3d371ecf\n",
      "Successfully built libpython\n",
      "Installing collected packages: libpython\n",
      "Successfully installed libpython-0.2\n"
     ]
    },
    {
     "name": "stderr",
     "output_type": "stream",
     "text": [
      "WARNING: You are using pip version 21.0.1; however, version 21.3.1 is available.\n",
      "You should consider upgrading via the 'S:\\New folder (2)\\python.exe -m pip install --upgrade pip' command.\n"
     ]
    }
   ],
   "source": [
    "! pip install libpython"
   ]
  },
  {
   "cell_type": "code",
   "execution_count": 14,
   "metadata": {},
   "outputs": [
    {
     "name": "stderr",
     "output_type": "stream",
     "text": [
      "ERROR: Could not find a version that satisfies the requirement cPickle\n",
      "ERROR: No matching distribution found for cPickle\n",
      "WARNING: You are using pip version 21.0.1; however, version 21.3.1 is available.\n",
      "You should consider upgrading via the 'S:\\New folder (2)\\python.exe -m pip install --upgrade pip' command.\n"
     ]
    }
   ],
   "source": [
    "! pip install cPickle"
   ]
  },
  {
   "cell_type": "code",
   "execution_count": 15,
   "metadata": {},
   "outputs": [],
   "source": [
    "import numpy as np \n",
    "import theano\n",
    "import _pickle as cPickle\n",
    "from collections import defaultdict\n",
    "import sys,re\n",
    "import pandas as pd\n",
    "import csv \n",
    "import getpass"
   ]
  },
  {
   "cell_type": "code",
   "execution_count": null,
   "metadata": {},
   "outputs": [],
   "source": [
    "def build_data_cv(datafile, cv=10, clean_string=True):\n",
    "    revs =[]\n",
    "    vocab= defaultdict(float)\n",
    "    with open(datafile, \"rb\") as csvf:\n",
    "        csvreader=csv.reader(csvf,delimiter=',',quotechar='\"')\n",
    "        first_line=True\n",
    "        for line in csvreader :\n",
    "            if first_line :\n",
    "                first_line=False\n",
    "                continue \n",
    "            status =[]\n",
    "            sentence=re.split(r'[.?]',line[1].strip())\n",
    "            try:\n",
    "                sentences.remove('')\n",
    "            except ValueError:\n",
    "                None\n",
    "            for sent in sentences :\n",
    "                if clean_string:\n",
    "                    orig_rev='':\n",
    "                        continue \n",
    "                words = set(orig_rev.split())\n",
    "                splitted = orig_rev.split()\n",
    "                if len(splitted)> 150 :\n",
    "                    orig_rev = []\n",
    "                    splits=int(np.floor(len(splitted)/20))\n",
    "                    for index in range(splits):\n",
    "                        orig_rev.append(' '.join(splitted[index*20:(index+1)*20]))\n",
    "                    if len(splitted)>splits*20 :\n",
    "                        orig_rev.append(' '.join(splitted[splits*20:]))\n",
    "                    status.append(orig_rev)\n",
    "                else :\n",
    "                    status.append(orig_rev)\n",
    "            else:\n",
    "                orig_rev = sent.strip().lower()\n",
    "                words = set(orig_rev)\n",
    "            \n",
    "        "
   ]
  },
  {
   "cell_type": "code",
   "execution_count": null,
   "metadata": {},
   "outputs": [],
   "source": []
  }
 ],
 "metadata": {
  "kernelspec": {
   "display_name": "Python 3",
   "language": "python",
   "name": "python3"
  },
  "language_info": {
   "codemirror_mode": {
    "name": "ipython",
    "version": 3
   },
   "file_extension": ".py",
   "mimetype": "text/x-python",
   "name": "python",
   "nbconvert_exporter": "python",
   "pygments_lexer": "ipython3",
   "version": "3.8.5"
  }
 },
 "nbformat": 4,
 "nbformat_minor": 4
}
